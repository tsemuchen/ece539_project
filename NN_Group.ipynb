{
  "nbformat": 4,
  "nbformat_minor": 0,
  "metadata": {
    "colab": {
      "provenance": [],
      "gpuType": "T4"
    },
    "kernelspec": {
      "name": "python3",
      "display_name": "Python 3"
    },
    "language_info": {
      "name": "python"
    },
    "accelerator": "GPU"
  },
  "cells": [
    {
      "cell_type": "code",
      "source": [
        "# all the libs\n",
        "import matplotlib.pyplot as plt\n",
        "import numpy as np\n",
        "import os\n",
        "import torch\n",
        "from torchvision import datasets, transforms, models\n",
        "\n",
        "from sklearn.metrics import (\n",
        "    confusion_matrix,\n",
        "    accuracy_score,\n",
        "    precision_score,\n",
        "    recall_score,\n",
        "    f1_score,\n",
        "    classification_report\n",
        ")"
      ],
      "metadata": {
        "id": "2jFt8ZO3X_-R"
      },
      "execution_count": 12,
      "outputs": []
    },
    {
      "cell_type": "code",
      "source": [
        "from google.colab import drive\n",
        "drive.mount('/content/drive')"
      ],
      "metadata": {
        "id": "Lb7pkC8oYHWO",
        "colab": {
          "base_uri": "https://localhost:8080/"
        },
        "outputId": "b06e0f0d-60c8-40cb-9ace-472b77a54f1f"
      },
      "execution_count": 13,
      "outputs": [
        {
          "output_type": "stream",
          "name": "stdout",
          "text": [
            "Drive already mounted at /content/drive; to attempt to forcibly remount, call drive.mount(\"/content/drive\", force_remount=True).\n"
          ]
        }
      ]
    },
    {
      "cell_type": "code",
      "source": [
        "# Data Pre-Processing\n",
        "from torchvision import transforms, datasets\n",
        "from torch.utils.data import DataLoader\n",
        "from torch.utils.data import random_split\n",
        "\n",
        "# Set the root directory where \"RealWaste\" is located\n",
        "data_dir = '/content/drive/MyDrive/Colab Notebooks/project/realwaste-main/RealWaste'\n",
        "\n",
        "# Create the dataset using ImageFolder\n",
        "dataset = datasets.ImageFolder(root=data_dir, transform=None)\n",
        "\n",
        "# Define the transformation pipeline\n",
        "transform_train = transforms.Compose([\n",
        "    transforms.Resize((224, 224)),\n",
        "    transforms.ToTensor(),\n",
        "    transforms.Normalize(mean=[0.485, 0.456, 0.406],\n",
        "                         std=[0.229, 0.224, 0.225])\n",
        "])\n",
        "\n",
        "transform_test = transforms.Compose([\n",
        "    transforms.Resize(256),\n",
        "    transforms.CenterCrop(224),\n",
        "    transforms.ToTensor(),\n",
        "    transforms.Normalize(\n",
        "        mean=[0.485, 0.456, 0.406],\n",
        "        std=[0.229, 0.224, 0.225]\n",
        "    )\n",
        "])\n",
        "\n",
        "class SubsetWithTransform(torch.utils.data.Dataset):\n",
        "    def __init__(self, subset, transform):\n",
        "        self.subset = subset\n",
        "        self.transform = transform\n",
        "    def __getitem__(self, idx):\n",
        "        x, y = self.subset[idx]\n",
        "        return self.transform(x), y\n",
        "    def __len__(self):\n",
        "        return len(self.subset)\n",
        "\n",
        "# No transform in ImageFolder\n",
        "dataset = datasets.ImageFolder(root=data_dir, transform=None)\n",
        "\n",
        "# calculate the sizes\n",
        "total_size = len(dataset)\n",
        "train_size = int(0.8 * total_size)  # 80% train\n",
        "test_size = total_size - train_size\n",
        "\n",
        "# Split\n",
        "db_train, db_test = random_split(dataset, [train_size, test_size])\n",
        "\n",
        "# Wrap with transforms\n",
        "db_train = SubsetWithTransform(db_train, transform_train)\n",
        "db_test = SubsetWithTransform(db_test, transform_test)\n",
        "\n",
        "# Define the data loaders\n",
        "loader_train = DataLoader(db_train, batch_size=32, shuffle=True, drop_last=True)\n",
        "loader_test = DataLoader(db_test, batch_size=32, shuffle=False)"
      ],
      "metadata": {
        "id": "58Ee8WdCYHeE"
      },
      "execution_count": 14,
      "outputs": []
    },
    {
      "cell_type": "code",
      "source": [
        "# training utils\n",
        "from torch import nn\n",
        "import tqdm\n",
        "\n",
        "device = 'cuda' if torch.cuda.is_available() else 'cpu'\n",
        "\n",
        "def fit_one_epoch(model, opt, loader):\n",
        "    model.train(True)\n",
        "    loss = nn.CrossEntropyLoss()\n",
        "    losses, accuracies = [], []\n",
        "    for images, labels in tqdm.tqdm(loader):\n",
        "        images = images.to(device)\n",
        "        labels = labels.to(device)\n",
        "\n",
        "        pred = model(images)\n",
        "        l = loss(pred, labels)\n",
        "        acc = (pred.argmax(1) == labels).float().mean()\n",
        "\n",
        "        l.backward()\n",
        "        opt.step()\n",
        "        opt.zero_grad()\n",
        "\n",
        "        losses.append(l.detach().item())\n",
        "        accuracies.append(acc.detach().item())\n",
        "    return np.mean(losses), np.mean(accuracies)\n",
        "\n",
        "@torch.no_grad()\n",
        "def eval(model, loader):\n",
        "    model.train(False)\n",
        "    loss = nn.CrossEntropyLoss()\n",
        "    accuracies, losses = [], []\n",
        "    for images, labels in tqdm.tqdm(loader):\n",
        "        images = images.to(device)\n",
        "        labels = labels.to(device)\n",
        "\n",
        "        pred = model(images)\n",
        "        acc = (pred.argmax(1) == labels).float().mean()\n",
        "        l = loss(pred, labels)\n",
        "\n",
        "        accuracies.append(acc.detach().item())\n",
        "        losses.append(l.detach().item())\n",
        "    return np.mean(losses), np.mean(accuracies)\n",
        "\n",
        "\n",
        "def fit(model, loader_train, loader_val, epochs=50, opt=None):\n",
        "    assert opt is not None\n",
        "    hist_tr_loss, hist_val_loss, hist_tr_acc, hist_val_acc = [], [], [], []\n",
        "    for epoch in range(epochs):\n",
        "        val_l, val_acc = eval(model, loader_val)\n",
        "        tr_l, tr_acc = fit_one_epoch(model, opt, loader_train)\n",
        "\n",
        "        print(f\"Finished epoch {epoch} of {epochs}: Train Loss = {tr_l:.3f}  Val Loss = {val_l:.3f}   Train Acc = {tr_acc:.3f}   Val Acc = {val_acc:.3f}\", flush=True)\n",
        "        hist_tr_loss.append(tr_l)\n",
        "        hist_val_loss.append(val_l)\n",
        "        hist_tr_acc.append(tr_acc)\n",
        "        hist_val_acc.append(val_acc)\n",
        "    return hist_tr_loss, hist_val_loss, hist_tr_acc, hist_val_acc\n",
        "\n",
        "def plot_training_history(hist_tr_loss, hist_val_loss, hist_tr_acc, hist_val_acc):\n",
        "    plt.subplot(1, 2, 1)\n",
        "    plt.plot(hist_tr_acc, label='train accuracy')\n",
        "    plt.plot(hist_val_acc, label='val accuracy')\n",
        "    plt.xlabel('Epoch')\n",
        "    plt.ylabel('Accuracy')\n",
        "    plt.legend(loc='lower right')\n",
        "\n",
        "    plt.subplot(1, 2, 2)\n",
        "    plt.plot(hist_tr_loss, label='train loss')\n",
        "    plt.plot(hist_val_loss, label='val loss')\n",
        "    plt.xlabel('Epoch')\n",
        "    plt.ylabel('Loss')\n",
        "    plt.legend(loc='lower right')\n",
        "\n",
        "    plt.tight_layout()\n",
        "    plt.show()"
      ],
      "metadata": {
        "id": "_uH8YaymlYhq"
      },
      "execution_count": 15,
      "outputs": []
    },
    {
      "cell_type": "code",
      "source": [
        "# Train\n",
        "def train(model, loader_train, loader_test, epochs=5, lr=0.01):\n",
        "\n",
        "  # Define the optimizer\n",
        "  opt = torch.optim.SGD(model.parameters(), lr=lr, momentum=0.9, weight_decay=0.0005)\n",
        "\n",
        "  # Fit the model to our data\n",
        "  hist_tr_loss, hist_test_loss, hist_tr_acc, hist_test_acc = fit(model, loader_train, loader_test, epochs=epochs, opt=opt)\n",
        "\n",
        "  # eval\n",
        "  l, acc = eval(model, loader_test)\n",
        "  plot_training_history(hist_tr_loss, hist_test_loss, hist_tr_acc, hist_test_acc)\n",
        "  print(f'Test accuracy: {acc*100:.2f}%')\n",
        "  print(f'Test loss: {l:.3f}')"
      ],
      "metadata": {
        "id": "_S7wRXyX-oiA"
      },
      "execution_count": 16,
      "outputs": []
    },
    {
      "cell_type": "code",
      "source": [
        "# Fine tuning\n",
        "def fine_tuning(model, loader_train, loader_test, epochs=2, lr=0.001):\n",
        "\n",
        "    # Unfreeze the entire model for fine-tuning\n",
        "  for p in model.parameters():\n",
        "      p.requires_grad = True\n",
        "\n",
        "  # Define optimizer\n",
        "  params = [p for p in model.parameters() if p.requires_grad]\n",
        "  opt = torch.optim.SGD(params, lr=lr, momentum=0.9, weight_decay=0.0005)\n",
        "\n",
        "  # Training\n",
        "  hist_tr_loss, hist_test_loss, hist_tr_acc, hist_test_acc = fit(model, loader_train, loader_test, epochs=epochs, opt=opt)\n",
        "\n",
        "  # Testing\n",
        "  loader_test = DataLoader(db_test, batch_size=64, shuffle=False)\n",
        "  l, acc = eval(model, loader_test)\n",
        "  plot_training_history(hist_tr_loss, hist_test_loss, hist_tr_acc, hist_test_acc)\n",
        "  print(f'Test accuracy: {acc*100:.2f}%')\n",
        "  print(f'Test loss: {l:.3f}')"
      ],
      "metadata": {
        "id": "z-82lezb-i8D"
      },
      "execution_count": 17,
      "outputs": []
    },
    {
      "cell_type": "code",
      "source": [
        "import seaborn as sns\n",
        "\n",
        "@torch.no_grad()\n",
        "def evaluate_metrics(model, loader):\n",
        "    model.eval()\n",
        "    y_pred = []\n",
        "    y_true = []\n",
        "\n",
        "    for images, labels in loader:\n",
        "        images = images.to(device)\n",
        "        labels = labels.to(device)\n",
        "\n",
        "        outputs = model(images)\n",
        "        preds = outputs.argmax(dim=1)\n",
        "\n",
        "        y_pred.extend(preds.cpu().numpy())\n",
        "        y_true.extend(labels.cpu().numpy())\n",
        "\n",
        "    # Compute metrics\n",
        "    cm = confusion_matrix(y_true, y_pred, labels=labels)\n",
        "    acc = accuracy_score(y_true, y_pred)\n",
        "    precision = precision_score(y_true, y_pred, labels=labels, average=None)\n",
        "    recall = recall_score(y_true, y_pred, labels=labels, average=None)\n",
        "    f1 = f1_score(y_true, y_pred, labels=labels, average=None)\n",
        "\n",
        "    # Confusion Matrix\n",
        "    plt.figure(figsize=(8,6))\n",
        "    sns.heatmap(cm, annot=True, fmt='d', cmap='Blues', xticklabels=dataset.classes, yticklabels=dataset.classes)\n",
        "    plt.xlabel('Predicted')\n",
        "    plt.ylabel('True')\n",
        "    plt.title('Confusion Matrix')\n",
        "    plt.show()\n",
        "\n",
        "    print(f\"Accuracy: {acc:.4f}\")\n",
        "    for i, (p, r, f) in enumerate(zip(precision, recall, f1)):\n",
        "        print(f\"Class {i}: Precision: {p:.4f}, Recall: {r:.4f}, F1 Score: {f:.4f}\")\n",
        "\n",
        "\n",
        "    # Macro-averaged scores\n",
        "    macro_precision = precision_score(y_true, y_pred, average='macro')\n",
        "    macro_recall = recall_score(y_true, y_pred, average='macro')\n",
        "    macro_f1 = f1_score(y_true, y_pred, average='macro')\n",
        "\n",
        "    print(f\"Macro-Precision: {macro_precision:.4f}, Macro-Recall: {macro_recall:.4f}, Macro-F1: {macro_f1:.4f}\")"
      ],
      "metadata": {
        "id": "08k7Zymyq2Ur"
      },
      "execution_count": 27,
      "outputs": []
    },
    {
      "cell_type": "code",
      "source": [
        "# train-fine-tune-pipeline\n",
        "def pipeline(model):\n",
        "  global db_train, db_test, loader_train, loader_test\n",
        "\n",
        "  # Define the model for 9-class classification\n",
        "  num_features = model.classifier.in_features\n",
        "  model.classifier = nn.Linear(num_features, 9)\n",
        "\n",
        "  # Move entire model to device\n",
        "  model = model.to(device)\n",
        "\n",
        "  # Freeze feature extractor\n",
        "  for param in model.features.parameters():\n",
        "      param.requires_grad = False\n",
        "\n",
        "  # Test the model with one batch to confirm it works\n",
        "  image_batch, label_batch = db_train[0]\n",
        "  feature_batch = model(image_batch[None].to(device))\n",
        "\n",
        "  # Train the model\n",
        "  train(model, loader_train, loader_test, epochs=8, lr = 0.01)\n",
        "\n",
        "  # fine tune\n",
        "  fine_tuning(model, loader_train, loader_test, epochs=10, lr=0.001)\n",
        "\n",
        "  # evaluate the model\n",
        "  evaluate_metrics(model, loader_test)\n",
        "\n",
        "  return model"
      ],
      "metadata": {
        "id": "qagjKkYO6i2V"
      },
      "execution_count": 24,
      "outputs": []
    },
    {
      "cell_type": "code",
      "source": [
        "# densenet121\n",
        "pipeline(models.densenet121(pretrained=True))"
      ],
      "metadata": {
        "colab": {
          "base_uri": "https://localhost:8080/",
          "height": 1000
        },
        "id": "jh-NINCs6eRy",
        "outputId": "ec9f6138-b2c8-45bf-93d8-07fdcdd821c3"
      },
      "execution_count": 25,
      "outputs": [
        {
          "output_type": "stream",
          "name": "stderr",
          "text": [
            "100%|██████████| 30/30 [04:01<00:00,  8.04s/it]\n",
            "100%|██████████| 118/118 [26:36<00:00, 13.53s/it]"
          ]
        },
        {
          "output_type": "stream",
          "name": "stdout",
          "text": [
            "Finished epoch 0 of 8: Train Loss = 1.069  Val Loss = 2.236   Train Acc = 0.632   Val Acc = 0.096\n"
          ]
        },
        {
          "output_type": "stream",
          "name": "stderr",
          "text": [
            "\n",
            "100%|██████████| 30/30 [03:54<00:00,  7.81s/it]\n",
            "100%|██████████| 118/118 [19:32<00:00,  9.93s/it]"
          ]
        },
        {
          "output_type": "stream",
          "name": "stdout",
          "text": [
            "Finished epoch 1 of 8: Train Loss = 0.601  Val Loss = 0.652   Train Acc = 0.786   Val Acc = 0.779\n"
          ]
        },
        {
          "output_type": "stream",
          "name": "stderr",
          "text": [
            "\n",
            "100%|██████████| 30/30 [03:59<00:00,  7.97s/it]\n",
            "100%|██████████| 118/118 [20:26<00:00, 10.39s/it]"
          ]
        },
        {
          "output_type": "stream",
          "name": "stdout",
          "text": [
            "Finished epoch 2 of 8: Train Loss = 0.512  Val Loss = 0.614   Train Acc = 0.814   Val Acc = 0.793\n"
          ]
        },
        {
          "output_type": "stream",
          "name": "stderr",
          "text": [
            "\n",
            "100%|██████████| 30/30 [04:15<00:00,  8.51s/it]\n",
            "100%|██████████| 118/118 [20:19<00:00, 10.33s/it]"
          ]
        },
        {
          "output_type": "stream",
          "name": "stdout",
          "text": [
            "Finished epoch 3 of 8: Train Loss = 0.474  Val Loss = 0.604   Train Acc = 0.835   Val Acc = 0.796\n"
          ]
        },
        {
          "output_type": "stream",
          "name": "stderr",
          "text": [
            "\n",
            "100%|██████████| 30/30 [04:04<00:00,  8.14s/it]\n",
            "100%|██████████| 118/118 [20:13<00:00, 10.28s/it]"
          ]
        },
        {
          "output_type": "stream",
          "name": "stdout",
          "text": [
            "Finished epoch 4 of 8: Train Loss = 0.427  Val Loss = 0.663   Train Acc = 0.849   Val Acc = 0.783\n"
          ]
        },
        {
          "output_type": "stream",
          "name": "stderr",
          "text": [
            "\n",
            "100%|██████████| 30/30 [04:12<00:00,  8.43s/it]\n",
            "100%|██████████| 118/118 [20:14<00:00, 10.29s/it]"
          ]
        },
        {
          "output_type": "stream",
          "name": "stdout",
          "text": [
            "Finished epoch 5 of 8: Train Loss = 0.430  Val Loss = 0.744   Train Acc = 0.848   Val Acc = 0.776\n"
          ]
        },
        {
          "output_type": "stream",
          "name": "stderr",
          "text": [
            "\n",
            "100%|██████████| 30/30 [04:04<00:00,  8.17s/it]\n",
            "100%|██████████| 118/118 [20:12<00:00, 10.27s/it]"
          ]
        },
        {
          "output_type": "stream",
          "name": "stdout",
          "text": [
            "Finished epoch 6 of 8: Train Loss = 0.373  Val Loss = 0.594   Train Acc = 0.868   Val Acc = 0.799\n"
          ]
        },
        {
          "output_type": "stream",
          "name": "stderr",
          "text": [
            "\n",
            "100%|██████████| 30/30 [04:05<00:00,  8.18s/it]\n",
            "100%|██████████| 118/118 [20:20<00:00, 10.34s/it]"
          ]
        },
        {
          "output_type": "stream",
          "name": "stdout",
          "text": [
            "Finished epoch 7 of 8: Train Loss = 0.362  Val Loss = 0.566   Train Acc = 0.872   Val Acc = 0.810\n"
          ]
        },
        {
          "output_type": "stream",
          "name": "stderr",
          "text": [
            "\n",
            "100%|██████████| 30/30 [04:19<00:00,  8.66s/it]\n"
          ]
        },
        {
          "output_type": "display_data",
          "data": {
            "text/plain": [
              "<Figure size 640x480 with 2 Axes>"
            ],
            "image/png": "[encoded data removed]"
          },
          "metadata": {}
        },
        {
          "output_type": "stream",
          "name": "stdout",
          "text": [
            "Test accuracy: 79.65%\n",
            "Test loss: 0.598\n"
          ]
        },
        {
          "output_type": "stream",
          "name": "stderr",
          "text": [
            "100%|██████████| 30/30 [04:08<00:00,  8.27s/it]\n",
            "100%|██████████| 118/118 [34:01<00:00, 17.30s/it]"
          ]
        },
        {
          "output_type": "stream",
          "name": "stdout",
          "text": [
            "Finished epoch 0 of 10: Train Loss = 0.347  Val Loss = 0.598   Train Acc = 0.878   Val Acc = 0.796\n"
          ]
        },
        {
          "output_type": "stream",
          "name": "stderr",
          "text": [
            "\n",
            "100%|██████████| 30/30 [02:39<00:00,  5.31s/it]\n",
            "100%|██████████| 118/118 [33:48<00:00, 17.19s/it]"
          ]
        },
        {
          "output_type": "stream",
          "name": "stdout",
          "text": [
            "Finished epoch 1 of 10: Train Loss = 0.104  Val Loss = 0.452   Train Acc = 0.965   Val Acc = 0.861\n"
          ]
        },
        {
          "output_type": "stream",
          "name": "stderr",
          "text": [
            "\n",
            "100%|██████████| 30/30 [02:41<00:00,  5.39s/it]\n",
            "100%|██████████| 118/118 [33:52<00:00, 17.23s/it]"
          ]
        },
        {
          "output_type": "stream",
          "name": "stdout",
          "text": [
            "Finished epoch 2 of 10: Train Loss = 0.036  Val Loss = 0.383   Train Acc = 0.993   Val Acc = 0.883\n"
          ]
        },
        {
          "output_type": "stream",
          "name": "stderr",
          "text": [
            "\n",
            "100%|██████████| 30/30 [02:40<00:00,  5.36s/it]\n",
            "100%|██████████| 118/118 [33:37<00:00, 17.09s/it]"
          ]
        },
        {
          "output_type": "stream",
          "name": "stdout",
          "text": [
            "Finished epoch 3 of 10: Train Loss = 0.017  Val Loss = 0.321   Train Acc = 0.998   Val Acc = 0.910\n"
          ]
        },
        {
          "output_type": "stream",
          "name": "stderr",
          "text": [
            "\n",
            "100%|██████████| 30/30 [02:47<00:00,  5.59s/it]\n",
            "100%|██████████| 118/118 [34:05<00:00, 17.33s/it]\n"
          ]
        },
        {
          "output_type": "stream",
          "name": "stdout",
          "text": [
            "Finished epoch 4 of 10: Train Loss = 0.011  Val Loss = 0.329   Train Acc = 0.998   Val Acc = 0.908\n"
          ]
        },
        {
          "output_type": "stream",
          "name": "stderr",
          "text": [
            "100%|██████████| 30/30 [02:44<00:00,  5.47s/it]\n",
            "100%|██████████| 118/118 [33:53<00:00, 17.23s/it]"
          ]
        },
        {
          "output_type": "stream",
          "name": "stdout",
          "text": [
            "Finished epoch 5 of 10: Train Loss = 0.008  Val Loss = 0.297   Train Acc = 1.000   Val Acc = 0.905\n"
          ]
        },
        {
          "output_type": "stream",
          "name": "stderr",
          "text": [
            "\n",
            "100%|██████████| 30/30 [02:38<00:00,  5.30s/it]\n",
            "100%|██████████| 118/118 [34:03<00:00, 17.32s/it]"
          ]
        },
        {
          "output_type": "stream",
          "name": "stdout",
          "text": [
            "Finished epoch 6 of 10: Train Loss = 0.006  Val Loss = 0.295   Train Acc = 1.000   Val Acc = 0.919\n"
          ]
        },
        {
          "output_type": "stream",
          "name": "stderr",
          "text": [
            "\n",
            "100%|██████████| 30/30 [02:39<00:00,  5.31s/it]\n",
            "100%|██████████| 118/118 [33:50<00:00, 17.21s/it]"
          ]
        },
        {
          "output_type": "stream",
          "name": "stdout",
          "text": [
            "Finished epoch 7 of 10: Train Loss = 0.004  Val Loss = 0.303   Train Acc = 1.000   Val Acc = 0.914\n"
          ]
        },
        {
          "output_type": "stream",
          "name": "stderr",
          "text": [
            "\n",
            "100%|██████████| 30/30 [02:40<00:00,  5.37s/it]\n",
            "100%|██████████| 118/118 [34:07<00:00, 17.35s/it]"
          ]
        },
        {
          "output_type": "stream",
          "name": "stdout",
          "text": [
            "Finished epoch 8 of 10: Train Loss = 0.005  Val Loss = 0.296   Train Acc = 1.000   Val Acc = 0.915\n"
          ]
        },
        {
          "output_type": "stream",
          "name": "stderr",
          "text": [
            "\n",
            "100%|██████████| 30/30 [02:52<00:00,  5.75s/it]\n",
            "100%|██████████| 118/118 [34:26<00:00, 17.52s/it]\n"
          ]
        },
        {
          "output_type": "stream",
          "name": "stdout",
          "text": [
            "Finished epoch 9 of 10: Train Loss = 0.004  Val Loss = 0.291   Train Acc = 1.000   Val Acc = 0.914\n"
          ]
        },
        {
          "output_type": "stream",
          "name": "stderr",
          "text": [
            "100%|██████████| 15/15 [04:06<00:00, 16.45s/it]\n"
          ]
        },
        {
          "output_type": "display_data",
          "data": {
            "text/plain": [
              "<Figure size 640x480 with 2 Axes>"
            ],
            "image/png": "[encoded data removed]"
          },
          "metadata": {}
        },
        {
          "output_type": "stream",
          "name": "stdout",
          "text": [
            "Test accuracy: 91.54%\n",
            "Test loss: 0.291\n",
            "Confusion Matrix:\n",
            "[[  0   0   0   0   0   0   0   0   0   0   0   0   0   0   0   0   0   0\n",
            "    0   0]\n",
            " [  0   0   0   0   0   0   0   0   0   0   0   0   0   0   0   0   0   0\n",
            "    0   0]\n",
            " [  0   0   0   0   0   0   0   0   0   0   0   0   0   0   0   0   0   0\n",
            "    0   0]\n",
            " [  0   0   0   0   0   0   0   0   0   0   0   0   0   0   0   0   0   0\n",
            "    0   0]\n",
            " [  0   0   0   0   0   0   0   0   0   0   0   0   0   0   0   0   0   0\n",
            "    0   0]\n",
            " [  0   0   0   0   0   0   0   0   0   0   0   0   0   0   0   0   0   0\n",
            "    0   0]\n",
            " [  0   0   0   0   0   0   0   0   0   0   0   0   0   0   0   0   0   0\n",
            "    0   0]\n",
            " [  0   0   0   0   0   0   0   0   0   0   0   0   0   0   0   0   0   0\n",
            "    0   0]\n",
            " [  0   0   0   0   0   0   0   0   0   0   0   0   0   0   0   0   0   0\n",
            "    0   0]\n",
            " [  0   0   0   0   0   0   0   0   0  83   0   0   0   1   0   3   0   0\n",
            "    0   0]\n",
            " [  0   0   0   0   0   0   0   0   0   0   0   0   0   0   0   0   0   0\n",
            "    0   0]\n",
            " [  0   0   0   0   0   0   0   0   0   0   0   0   0   0   0   0   0   0\n",
            "    0   0]\n",
            " [  0   0   0   0   0   0   0   0   0   0   0   0 100   4   0   4   0   2\n",
            "    1   4]\n",
            " [  0   0   0   0   0   0   0   0   0   1   0   0   3  93   1   0   0   1\n",
            "    0   0]\n",
            " [  0   0   0   0   0   0   0   0   0   0   0   0   0   0  75   2   0   2\n",
            "    0   0]\n",
            " [  0   0   0   0   0   0   0   0   0   3   0   0   2   1   3 161   0   6\n",
            "    0   0]\n",
            " [  0   0   0   0   0   0   0   0   0   0   0   0   0   0   0   0   0   0\n",
            "    0   0]\n",
            " [  0   0   0   0   0   0   0   0   0   1   0   0   3   0   1   4   0 142\n",
            "    1   0]\n",
            " [  0   0   0   0   0   0   0   0   0   0   0   0   0   0   0   0   0   0\n",
            "   84   3]\n",
            " [  0   0   0   0   0   0   0   0   0   0   0   0   2   0   1   0   0   0\n",
            "    4  77]]\n"
          ]
        },
        {
          "output_type": "error",
          "ename": "TypeError",
          "evalue": "unsupported format string passed to numpy.ndarray.__format__",
          "traceback": [
            "\u001b[0;31m---------------------------------------------------------------------------\u001b[0m",
            "\u001b[0;31mTypeError\u001b[0m                                 Traceback (most recent call last)",
            "\u001b[0;32m<ipython-input-25-474d11aac80a>\u001b[0m in \u001b[0;36m<cell line: 0>\u001b[0;34m()\u001b[0m\n\u001b[1;32m      1\u001b[0m \u001b[0;31m# densenet121\u001b[0m\u001b[0;34m\u001b[0m\u001b[0;34m\u001b[0m\u001b[0m\n\u001b[0;32m----> 2\u001b[0;31m \u001b[0mpipeline\u001b[0m\u001b[0;34m(\u001b[0m\u001b[0mmodels\u001b[0m\u001b[0;34m.\u001b[0m\u001b[0mdensenet121\u001b[0m\u001b[0;34m(\u001b[0m\u001b[0mpretrained\u001b[0m\u001b[0;34m=\u001b[0m\u001b[0;32mTrue\u001b[0m\u001b[0;34m)\u001b[0m\u001b[0;34m)\u001b[0m\u001b[0;34m\u001b[0m\u001b[0;34m\u001b[0m\u001b[0m\n\u001b[0m",
            "\u001b[0;32m<ipython-input-24-634e42a8f96f>\u001b[0m in \u001b[0;36mpipeline\u001b[0;34m(model)\u001b[0m\n\u001b[1;32m     25\u001b[0m \u001b[0;34m\u001b[0m\u001b[0m\n\u001b[1;32m     26\u001b[0m   \u001b[0;31m# evaluate the model\u001b[0m\u001b[0;34m\u001b[0m\u001b[0;34m\u001b[0m\u001b[0m\n\u001b[0;32m---> 27\u001b[0;31m   \u001b[0mevaluate_metrics\u001b[0m\u001b[0;34m(\u001b[0m\u001b[0mmodel\u001b[0m\u001b[0;34m,\u001b[0m \u001b[0mloader_test\u001b[0m\u001b[0;34m)\u001b[0m\u001b[0;34m\u001b[0m\u001b[0;34m\u001b[0m\u001b[0m\n\u001b[0m",
            "\u001b[0;32m/usr/local/lib/python3.11/dist-packages/torch/utils/_contextlib.py\u001b[0m in \u001b[0;36mdecorate_context\u001b[0;34m(*args, **kwargs)\u001b[0m\n\u001b[1;32m    114\u001b[0m     \u001b[0;32mdef\u001b[0m \u001b[0mdecorate_context\u001b[0m\u001b[0;34m(\u001b[0m\u001b[0;34m*\u001b[0m\u001b[0margs\u001b[0m\u001b[0;34m,\u001b[0m \u001b[0;34m**\u001b[0m\u001b[0mkwargs\u001b[0m\u001b[0;34m)\u001b[0m\u001b[0;34m:\u001b[0m\u001b[0;34m\u001b[0m\u001b[0;34m\u001b[0m\u001b[0m\n\u001b[1;32m    115\u001b[0m         \u001b[0;32mwith\u001b[0m \u001b[0mctx_factory\u001b[0m\u001b[0;34m(\u001b[0m\u001b[0;34m)\u001b[0m\u001b[0;34m:\u001b[0m\u001b[0;34m\u001b[0m\u001b[0;34m\u001b[0m\u001b[0m\n\u001b[0;32m--> 116\u001b[0;31m             \u001b[0;32mreturn\u001b[0m \u001b[0mfunc\u001b[0m\u001b[0;34m(\u001b[0m\u001b[0;34m*\u001b[0m\u001b[0margs\u001b[0m\u001b[0;34m,\u001b[0m \u001b[0;34m**\u001b[0m\u001b[0mkwargs\u001b[0m\u001b[0;34m)\u001b[0m\u001b[0;34m\u001b[0m\u001b[0;34m\u001b[0m\u001b[0m\n\u001b[0m\u001b[1;32m    117\u001b[0m \u001b[0;34m\u001b[0m\u001b[0m\n\u001b[1;32m    118\u001b[0m     \u001b[0;32mreturn\u001b[0m \u001b[0mdecorate_context\u001b[0m\u001b[0;34m\u001b[0m\u001b[0;34m\u001b[0m\u001b[0m\n",
            "\u001b[0;32m<ipython-input-21-258a470c7d34>\u001b[0m in \u001b[0;36mevaluate_metrics\u001b[0;34m(model, loader)\u001b[0m\n\u001b[1;32m     22\u001b[0m     \u001b[0mf1\u001b[0m \u001b[0;34m=\u001b[0m \u001b[0mf1_score\u001b[0m\u001b[0;34m(\u001b[0m\u001b[0my_true\u001b[0m\u001b[0;34m,\u001b[0m \u001b[0my_pred\u001b[0m\u001b[0;34m,\u001b[0m \u001b[0mlabels\u001b[0m\u001b[0;34m=\u001b[0m\u001b[0mlabels\u001b[0m\u001b[0;34m,\u001b[0m \u001b[0maverage\u001b[0m\u001b[0;34m=\u001b[0m\u001b[0;32mNone\u001b[0m\u001b[0;34m)\u001b[0m\u001b[0;34m\u001b[0m\u001b[0;34m\u001b[0m\u001b[0m\n\u001b[1;32m     23\u001b[0m     \u001b[0mprint\u001b[0m\u001b[0;34m(\u001b[0m\u001b[0;34mf\"Confusion Matrix:\\n{cm}\"\u001b[0m\u001b[0;34m)\u001b[0m\u001b[0;34m\u001b[0m\u001b[0;34m\u001b[0m\u001b[0m\n\u001b[0;32m---> 24\u001b[0;31m     \u001b[0mprint\u001b[0m\u001b[0;34m(\u001b[0m\u001b[0;34mf\"Accuracy: {acc:.4f}, Precision: {precision:.4f}, Recall: {recall:.4f}, F1 Score: {f1:.4f}\"\u001b[0m\u001b[0;34m)\u001b[0m\u001b[0;34m\u001b[0m\u001b[0;34m\u001b[0m\u001b[0m\n\u001b[0m\u001b[1;32m     25\u001b[0m \u001b[0;34m\u001b[0m\u001b[0m\n\u001b[1;32m     26\u001b[0m     \u001b[0;31m# Macro-averaged scores\u001b[0m\u001b[0;34m\u001b[0m\u001b[0;34m\u001b[0m\u001b[0m\n",
            "\u001b[0;31mTypeError\u001b[0m: unsupported format string passed to numpy.ndarray.__format__"
          ]
        }
      ]
    },
    {
      "cell_type": "code",
      "source": [
        "# densenet121 (debugging)\n",
        "dn = pipeline(models.densenet121(pretrained=True))"
      ],
      "metadata": {
        "colab": {
          "base_uri": "https://localhost:8080/"
        },
        "id": "bF9xmaA76xPK",
        "outputId": "392ce850-1404-406f-ba7a-839060b4c84e"
      },
      "execution_count": null,
      "outputs": [
        {
          "output_type": "stream",
          "name": "stderr",
          "text": [
            "/usr/local/lib/python3.11/dist-packages/torchvision/models/_utils.py:208: UserWarning: The parameter 'pretrained' is deprecated since 0.13 and may be removed in the future, please use 'weights' instead.\n",
            "  warnings.warn(\n",
            "/usr/local/lib/python3.11/dist-packages/torchvision/models/_utils.py:223: UserWarning: Arguments other than a weight enum or `None` for 'weights' are deprecated since 0.13 and may be removed in the future. The current behavior is equivalent to passing `weights=DenseNet121_Weights.IMAGENET1K_V1`. You can also use `weights=DenseNet121_Weights.DEFAULT` to get the most up-to-date weights.\n",
            "  warnings.warn(msg)\n",
            "100%|██████████| 30/30 [03:48<00:00,  7.63s/it]\n",
            " 66%|██████▌   | 78/118 [11:38<06:01,  9.03s/it]"
          ]
        }
      ]
    },
    {
      "cell_type": "code",
      "source": [],
      "metadata": {
        "id": "mpGzNqgNFz7t"
      },
      "execution_count": null,
      "outputs": []
    }
  ]
}